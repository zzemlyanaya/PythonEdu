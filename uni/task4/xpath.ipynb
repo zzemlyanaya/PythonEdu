{
 "cells": [
  {
   "cell_type": "markdown",
   "metadata": {},
   "source": [
    "\n",
    "# Синтаксический разбор XML\n",
    "по материалам https://diveintopython3.net/xml.html на основе файла movies.xml"
   ]
  },
  {
   "cell_type": "code",
   "execution_count": 1,
   "metadata": {},
   "outputs": [
    {
     "name": "stdout",
     "output_type": "stream",
     "text": [
      "<Element Movies at 0x109d71f50>\n"
     ]
    }
   ],
   "source": [
    "from lxml import etree as ET  \n",
    "tree = ET.parse('movies.xml')  \n",
    "root = tree.getroot() \n",
    "print(f'{root.tag = }') # имя корневого тега\n",
    "print(root) # строковое представление корневого элемента содержит информацию об имени элемента и адресе в памяти"
   ]
  },
  {
   "cell_type": "markdown",
   "metadata": {},
   "source": [
    "Далее нужно вместо print(\"...\") написать ваш коменатарий, что делает команада, например для следущей яцейки подойдет\n",
    "\n",
    "print(\"Список всех тегов с именем Movie:\")\n",
    "\n",
    "root.findall('Movie')"
   ]
  },
  {
   "cell_type": "code",
   "execution_count": 2,
   "metadata": {},
   "outputs": [
    {
     "name": "stdout",
     "output_type": "stream",
     "text": [
      "...\n"
     ]
    },
    {
     "data": {
      "text/plain": [
       "[<Element Movie at 0x109d6ddc0>,\n",
       " <Element Movie at 0x109d6dd70>,\n",
       " <Element Movie at 0x109d66280>,\n",
       " <Element Movie at 0x109d661e0>,\n",
       " <Element Movie at 0x109d66190>,\n",
       " <Element Movie at 0x109d660a0>,\n",
       " <Element Movie at 0x109d66050>,\n",
       " <Element Movie at 0x109d65f00>,\n",
       " <Element Movie at 0x109d65eb0>,\n",
       " <Element Movie at 0x109d65e60>,\n",
       " <Element Movie at 0x109d65e10>,\n",
       " <Element Movie at 0x109d65dc0>]"
      ]
     },
     "execution_count": 2,
     "metadata": {},
     "output_type": "execute_result"
    }
   ],
   "source": [
    "print(\"...\")\n",
    "root.findall('Movie')"
   ]
  },
  {
   "cell_type": "code",
   "execution_count": 3,
   "metadata": {
    "tags": []
   },
   "outputs": [
    {
     "name": "stdout",
     "output_type": "stream",
     "text": [
      "...\n"
     ]
    },
    {
     "data": {
      "text/plain": [
       "[<Element Movie at 0x109d6ddc0>,\n",
       " <Element Movie at 0x109d6dd70>,\n",
       " <Element Movie at 0x109d66280>,\n",
       " <Element Movie at 0x109d661e0>,\n",
       " <Element Movie at 0x109d66190>,\n",
       " <Element Movie at 0x109d660a0>,\n",
       " <Element Movie at 0x109d66050>,\n",
       " <Element Movie at 0x109d65f00>,\n",
       " <Element Movie at 0x109d65eb0>,\n",
       " <Element Movie at 0x109d65e60>,\n",
       " <Element Movie at 0x109d65e10>,\n",
       " <Element Movie at 0x109d65dc0>]"
      ]
     },
     "execution_count": 3,
     "metadata": {},
     "output_type": "execute_result"
    }
   ],
   "source": [
    "entries_movie = tree.xpath(\"/Movies/Movie\")\n",
    "print(\"...\")\n",
    "entries_movie"
   ]
  },
  {
   "cell_type": "code",
   "execution_count": 4,
   "metadata": {},
   "outputs": [
    {
     "name": "stdout",
     "output_type": "stream",
     "text": [
      "...\n"
     ]
    },
    {
     "data": {
      "text/plain": [
       "[<Element Movie at 0x109d6ddc0>,\n",
       " <Element Movie at 0x109d6dd70>,\n",
       " <Element Movie at 0x109d66280>,\n",
       " <Element Movie at 0x109d661e0>,\n",
       " <Element Movie at 0x109d66190>,\n",
       " <Element Movie at 0x109d660a0>,\n",
       " <Element Movie at 0x109d66050>,\n",
       " <Element Movie at 0x109d65f00>,\n",
       " <Element Movie at 0x109d65eb0>,\n",
       " <Element Movie at 0x109d65e60>,\n",
       " <Element Movie at 0x109d65e10>,\n",
       " <Element Movie at 0x109d65dc0>]"
      ]
     },
     "execution_count": 4,
     "metadata": {},
     "output_type": "execute_result"
    }
   ],
   "source": [
    "entries_movie = tree.xpath(\"//Movie\")\n",
    "print(\"...\")\n",
    "entries_movie"
   ]
  },
  {
   "cell_type": "code",
   "execution_count": 5,
   "metadata": {},
   "outputs": [
    {
     "name": "stdout",
     "output_type": "stream",
     "text": [
      "...\n"
     ]
    },
    {
     "data": {
      "text/plain": [
       "[<Element Title at 0x10ac38820>,\n",
       " <Element Title at 0x10ac38230>,\n",
       " <Element Title at 0x10ac38870>,\n",
       " <Element Title at 0x10ac388c0>,\n",
       " <Element Title at 0x10ac38910>,\n",
       " <Element Title at 0x10ac38960>,\n",
       " <Element Title at 0x10ac389b0>,\n",
       " <Element Title at 0x10ac38a00>,\n",
       " <Element Title at 0x10ac38a50>,\n",
       " <Element Title at 0x10ac38aa0>,\n",
       " <Element Title at 0x10ac38af0>,\n",
       " <Element Title at 0x10ac38b40>]"
      ]
     },
     "execution_count": 5,
     "metadata": {},
     "output_type": "execute_result"
    }
   ],
   "source": [
    "entries_title = tree.xpath(\"//Title\")\n",
    "print(\"...\")\n",
    "entries_title"
   ]
  },
  {
   "cell_type": "code",
   "execution_count": 6,
   "metadata": {},
   "outputs": [
    {
     "name": "stdout",
     "output_type": "stream",
     "text": [
      "...\n"
     ]
    },
    {
     "data": {
      "text/plain": [
       "'The Godfather'"
      ]
     },
     "execution_count": 6,
     "metadata": {},
     "output_type": "execute_result"
    }
   ],
   "source": [
    "print(\"...\")\n",
    "entries_title[0].text"
   ]
  },
  {
   "cell_type": "code",
   "execution_count": 7,
   "metadata": {},
   "outputs": [
    {
     "name": "stdout",
     "output_type": "stream",
     "text": [
      "...\n"
     ]
    },
    {
     "data": {
      "text/plain": [
       "'Title'"
      ]
     },
     "execution_count": 7,
     "metadata": {},
     "output_type": "execute_result"
    }
   ],
   "source": [
    "print(\"...\")\n",
    "entries_title[0].tag"
   ]
  },
  {
   "cell_type": "code",
   "execution_count": 8,
   "metadata": {},
   "outputs": [
    {
     "name": "stdout",
     "output_type": "stream",
     "text": [
      "...\n"
     ]
    },
    {
     "data": {
      "text/plain": [
       "{'runtime': '142'}"
      ]
     },
     "execution_count": 8,
     "metadata": {},
     "output_type": "execute_result"
    }
   ],
   "source": [
    "print(\"...\")\n",
    "entries_title[1].attrib"
   ]
  },
  {
   "cell_type": "code",
   "execution_count": 9,
   "metadata": {},
   "outputs": [
    {
     "name": "stdout",
     "output_type": "stream",
     "text": [
      "...\n"
     ]
    },
    {
     "data": {
      "text/plain": [
       "['142']"
      ]
     },
     "execution_count": 9,
     "metadata": {},
     "output_type": "execute_result"
    }
   ],
   "source": [
    "print(\"...\")\n",
    "entries_title[1].values()"
   ]
  },
  {
   "cell_type": "code",
   "execution_count": 10,
   "metadata": {},
   "outputs": [
    {
     "data": {
      "text/plain": [
       "['The Godfather',\n",
       " 'The Shwashank Redemption',\n",
       " 'Sholay',\n",
       " 'Guide',\n",
       " 'Sarfarosh',\n",
       " 'Lagaan',\n",
       " 'A Beautiful Mind',\n",
       " 'Purab aur Paschim',\n",
       " 'The Notebook']"
      ]
     },
     "execution_count": 10,
     "metadata": {},
     "output_type": "execute_result"
    }
   ],
   "source": [
    "entries_title_runtime = tree.xpath(\"//Title[@runtime]/text()\")\n",
    "# print(\"...\")\n",
    "entries_title_runtime"
   ]
  },
  {
   "cell_type": "code",
   "execution_count": 11,
   "metadata": {},
   "outputs": [
    {
     "data": {
      "text/plain": [
       "['The Shwashank Redemption']"
      ]
     },
     "execution_count": 11,
     "metadata": {},
     "output_type": "execute_result"
    }
   ],
   "source": [
    "entries_title_runtime = tree.xpath(\"//Title[@runtime='142']/text()\")\n",
    "# print(\"...\")\n",
    "entries_title_runtime"
   ]
  },
  {
   "cell_type": "code",
   "execution_count": 12,
   "metadata": {},
   "outputs": [
    {
     "name": "stdout",
     "output_type": "stream",
     "text": [
      "[<Element Movie at 0x109d6ddc0>, <Element Title at 0x10ac38820>, <Element Genre at 0x10ac3bc80>, <Element Director at 0x10ac3bcd0>, <Element Name at 0x10ac3bd20>, <Element First at 0x10ac3bd70>, <Element Last at 0x10ac3bdc0>, <Element Studio at 0x10ac3be10>, <Element Year at 0x10ac3be60>]\n",
      " \n",
      "[<Element Movie at 0x109d6dd70>, <Element Title at 0x10ac38230>, <Element Genre at 0x10ac3bf00>, <Element Director at 0x10ac3baf0>, <Element Name at 0x10ac3bf50>, <Element First at 0x10ac3bfa0>, <Element Last at 0x10ac40050>, <Element Studio at 0x10ac400a0>, <Element Year at 0x10ac400f0>]\n",
      " \n",
      "[<Element Movie at 0x109d66280>, <Element Title at 0x10ac38870>, <Element Genre at 0x10ac3bd20>, <Element Director at 0x10ac3bd70>, <Element Name at 0x10ac3bdc0>, <Element First at 0x10ac3be10>, <Element Last at 0x10ac3be60>, <Element Studio at 0x10ac3b820>, <Element Year at 0x10ac40140>]\n",
      " \n",
      "[<Element Movie at 0x109d661e0>, <Element Title at 0x10ac388c0>, <Element Genre at 0x10ac3bf50>, <Element Director at 0x10ac3bfa0>, <Element Name at 0x10ac3bcd0>, <Element First at 0x10ac40050>, <Element Last at 0x10ac400a0>, <Element Studio at 0x10ac400f0>, <Element Year at 0x10ac40190>]\n",
      " \n",
      "[<Element Movie at 0x109d66190>, <Element Title at 0x10ac38910>, <Element Genre at 0x10ac3bdc0>, <Element Director at 0x10ac3be10>, <Element Name at 0x10ac3be60>, <Element First at 0x10ac3b820>, <Element Last at 0x10ac3baf0>, <Element Studio at 0x10ac40140>, <Element Year at 0x10ac401e0>]\n",
      " \n",
      "[<Element Movie at 0x109d660a0>, <Element Title at 0x10ac38960>, <Element Genre at 0x10ac3bcd0>, <Element Director at 0x10ac3bd70>, <Element Name at 0x10ac40050>, <Element First at 0x10ac400a0>, <Element Last at 0x10ac400f0>, <Element Studio at 0x10ac40190>, <Element Year at 0x10ac40230>]\n",
      " \n",
      "[<Element Movie at 0x109d66050>, <Element Title at 0x10ac389b0>, <Element Genre at 0x10ac3be60>, <Element Director at 0x10ac3b820>, <Element Name at 0x10ac3baf0>, <Element First at 0x10ac3bfa0>, <Element Last at 0x10ac40140>, <Element Studio at 0x10ac401e0>, <Element Year at 0x10ac40280>]\n",
      " \n",
      "[<Element Movie at 0x109d65f00>, <Element Title at 0x10ac38a00>, <Element Genre at 0x10ac3be10>, <Element Director at 0x10ac40050>, <Element Name at 0x10ac400a0>, <Element First at 0x10ac400f0>, <Element Last at 0x10ac40190>, <Element Studio at 0x10ac40230>, <Element Year at 0x10ac402d0>]\n",
      " \n",
      "[<Element Movie at 0x109d65eb0>, <Element Title at 0x10ac38a50>, <Element Genre at 0x10ac3baf0>, <Element Director at 0x10ac3bfa0>, <Element Name at 0x10ac3bd70>, <Element First at 0x10ac40140>, <Element Last at 0x10ac401e0>, <Element Studio at 0x10ac40280>, <Element Year at 0x10ac40320>]\n",
      " \n",
      "[<Element Movie at 0x109d65e60>, <Element Title at 0x10ac38aa0>, <Element Genre at 0x10ac40050>, <Element Director at 0x10ac400a0>, <Element Name at 0x10ac400f0>, <Element First at 0x10ac40190>, <Element Last at 0x10ac40230>, <Element Studio at 0x10ac402d0>, <Element Year at 0x10ac40370>]\n",
      " \n",
      "[<Element Movie at 0x109d65e10>, <Element Title at 0x10ac38af0>, <Element Genre at 0x10ac3bd70>, <Element Director at 0x10ac3b820>, <Element Name at 0x10ac40140>, <Element First at 0x10ac401e0>, <Element Last at 0x10ac40280>, <Element Studio at 0x10ac40320>, <Element Year at 0x10ac403c0>]\n",
      " \n",
      "[<Element Movie at 0x109d65dc0>, <Element Title at 0x10ac38b40>, <Element Genre at 0x10ac400a0>, <Element Director at 0x10ac400f0>, <Element Name at 0x10ac40190>, <Element First at 0x10ac40230>, <Element Last at 0x10ac402d0>, <Element Studio at 0x10ac40370>, <Element Year at 0x10ac40410>]\n",
      " \n"
     ]
    }
   ],
   "source": [
    "for elem in entries_movie:\n",
    "    all_descendants = list(elem.iter())\n",
    "    print(all_descendants)\n",
    "    print(\" \")"
   ]
  },
  {
   "cell_type": "code",
   "execution_count": 1,
   "metadata": {},
   "outputs": [],
   "source": [
    "# Задание 1: вывести на экран словарь, ключи которого - названия фильмов, значения - содержимое \"runtime\""
   ]
  },
  {
   "cell_type": "code",
   "execution_count": null,
   "metadata": {},
   "outputs": [],
   "source": [
    "# Задание 2: трансформировать содержимое movies.xml в формат json\n",
    "# Документация для стандартного модуля json: https://docs.python.org/3/library/json.html \n",
    "# Неофициальный перевод с примерами записи в json https://python-scripts.com/json?ysclid=lac4k0btwt466481369"
   ]
  }
 ],
 "metadata": {
  "kernelspec": {
   "display_name": "Python 3.9.9 64-bit",
   "language": "python",
   "name": "python3"
  },
  "language_info": {
   "codemirror_mode": {
    "name": "ipython",
    "version": 3
   },
   "file_extension": ".py",
   "mimetype": "text/x-python",
   "name": "python",
   "nbconvert_exporter": "python",
   "pygments_lexer": "ipython3",
   "version": "3.9.9"
  },
  "orig_nbformat": 2,
  "vscode": {
   "interpreter": {
    "hash": "7a792fcb311f9eb9f3c1b942a8c87ada8484712b89b670347c16a1088e0a1f69"
   }
  }
 },
 "nbformat": 4,
 "nbformat_minor": 2
}
